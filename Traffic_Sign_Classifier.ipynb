{
 "cells": [
  {
   "cell_type": "markdown",
   "metadata": {},
   "source": [
    "# Self-Driving Car Engineer Nanodegree\n",
    "\n",
    "## Deep Learning\n",
    "\n",
    "## Project: Build a Traffic Sign Recognition Classifier\n",
    "\n",
    "In this notebook, a template is provided for you to implement your functionality in stages, which is required to successfully complete this project. If additional code is required that cannot be included in the notebook, be sure that the Python code is successfully imported and included in your submission if necessary. \n",
    "\n",
    "> **Note**: Once you have completed all of the code implementations, you need to finalize your work by exporting the iPython Notebook as an HTML document. Before exporting the notebook to html, all of the code cells need to have been run so that reviewers can see the final implementation and output. You can then export the notebook by using the menu above and navigating to  \\n\",\n",
    "    \"**File -> Download as -> HTML (.html)**. Include the finished document along with this notebook as your submission. \n",
    "\n",
    "In addition to implementing code, there is a writeup to complete. The writeup should be completed in a separate file, which can be either a markdown file or a pdf document. There is a [write up template](https://github.com/udacity/CarND-Traffic-Sign-Classifier-Project/blob/master/writeup_template.md) that can be used to guide the writing process. Completing the code template and writeup template will cover all of the [rubric points](https://review.udacity.com/#!/rubrics/481/view) for this project.\n",
    "\n",
    "The [rubric](https://review.udacity.com/#!/rubrics/481/view) contains \"Stand Out Suggestions\" for enhancing the project beyond the minimum requirements. The stand out suggestions are optional. If you decide to pursue the \"stand out suggestions\", you can include the code in this Ipython notebook and also discuss the results in the writeup file.\n",
    "\n",
    "\n",
    ">**Note:** Code and Markdown cells can be executed using the **Shift + Enter** keyboard shortcut. In addition, Markdown cells can be edited by typically double-clicking the cell to enter edit mode."
   ]
  },
  {
   "cell_type": "markdown",
   "metadata": {},
   "source": [
    "---\n",
    "## Step 0: Load The Data"
   ]
  },
  {
   "cell_type": "code",
   "execution_count": 1,
   "metadata": {
    "collapsed": true
   },
   "outputs": [],
   "source": [
    "# Load pickled data\n",
    "import pickle\n",
    "\n",
    "# TODO: Fill this in based on where you saved the training and testing data\n",
    "\n",
    "training_file = 'traffic-signs-data/train.p'\n",
    "validation_file= 'traffic-signs-data/valid.p'\n",
    "testing_file = 'traffic-signs-data/test.p'\n",
    "\n",
    "with open(training_file, mode='rb') as f:\n",
    "    train = pickle.load(f)\n",
    "with open(validation_file, mode='rb') as f:\n",
    "    valid = pickle.load(f)\n",
    "with open(testing_file, mode='rb') as f:\n",
    "    test = pickle.load(f)\n",
    "    \n",
    "X_train, y_train = train['features'], train['labels']\n",
    "X_valid, y_valid = valid['features'], valid['labels']\n",
    "X_test, y_test = test['features'], test['labels']"
   ]
  },
  {
   "cell_type": "code",
   "execution_count": 54,
   "metadata": {
    "collapsed": true
   },
   "outputs": [],
   "source": [
    "training_file = 'traffic-signs-data/train_processed.p'\n",
    "validation_file= 'traffic-signs-data/valid_processed.p'\n",
    "testing_file = 'traffic-signs-data/test_processed.p'\n",
    "\n",
    "with open(training_file, mode='rb') as f:\n",
    "    train = pickle.load(f)\n",
    "with open(validation_file, mode='rb') as f:\n",
    "    valid = pickle.load(f)\n",
    "with open(testing_file, mode='rb') as f:\n",
    "    test = pickle.load(f)\n",
    "    \n",
    "X_train, y_train = train['features'], train['labels']\n",
    "X_valid, y_valid = valid['features'], valid['labels']\n",
    "X_test, y_test = test['features'], test['labels']"
   ]
  },
  {
   "cell_type": "markdown",
   "metadata": {},
   "source": [
    "---\n",
    "\n",
    "## Step 1: Dataset Summary & Exploration\n",
    "\n",
    "The pickled data is a dictionary with 4 key/value pairs:\n",
    "\n",
    "- `'features'` is a 4D array containing raw pixel data of the traffic sign images, (num examples, width, height, channels).\n",
    "- `'labels'` is a 1D array containing the label/class id of the traffic sign. The file `signnames.csv` contains id -> name mappings for each id.\n",
    "- `'sizes'` is a list containing tuples, (width, height) representing the original width and height the image.\n",
    "- `'coords'` is a list containing tuples, (x1, y1, x2, y2) representing coordinates of a bounding box around the sign in the image. **THESE COORDINATES ASSUME THE ORIGINAL IMAGE. THE PICKLED DATA CONTAINS RESIZED VERSIONS (32 by 32) OF THESE IMAGES**\n",
    "\n",
    "Complete the basic data summary below. Use python, numpy and/or pandas methods to calculate the data summary rather than hard coding the results. For example, the [pandas shape method](http://pandas.pydata.org/pandas-docs/stable/generated/pandas.DataFrame.shape.html) might be useful for calculating some of the summary results. "
   ]
  },
  {
   "cell_type": "markdown",
   "metadata": {},
   "source": [
    "### Provide a Basic Summary of the Data Set Using Python, Numpy and/or Pandas"
   ]
  },
  {
   "cell_type": "code",
   "execution_count": 2,
   "metadata": {},
   "outputs": [
    {
     "name": "stdout",
     "output_type": "stream",
     "text": [
      "Number of training examples = 34799\n",
      "Number of validation examples = 4410\n",
      "Number of testing examples = 12630\n",
      "Image data shape = (32, 32, 3)\n",
      "Number of classes = 43\n"
     ]
    }
   ],
   "source": [
    "### Replace each question mark with the appropriate value. \n",
    "### Use python, pandas or numpy methods rather than hard coding the results\n",
    "\n",
    "assert(len(X_train) == len(y_train))\n",
    "assert(len(X_valid) == len(y_valid))\n",
    "assert(len(X_test) == len(y_test))\n",
    "\n",
    "# TODO: Number of training examples\n",
    "n_train = X_train.shape[0]\n",
    "\n",
    "# TODO: Number of validation examples\n",
    "n_validation = X_valid.shape[0]\n",
    "\n",
    "# TODO: Number of testing examples.\n",
    "n_test = X_test.shape[0]\n",
    "\n",
    "# TODO: What's the shape of an traffic sign image?\n",
    "image_shape = X_train[0].shape\n",
    "\n",
    "# TODO: How many unique classes/labels there are in the dataset.\n",
    "n_classes = len(set(train['labels']))\n",
    "\n",
    "print(\"Number of training examples =\", n_train)\n",
    "print(\"Number of validation examples =\", n_validation)\n",
    "print(\"Number of testing examples =\", n_test)\n",
    "print(\"Image data shape =\", image_shape)\n",
    "print(\"Number of classes =\", n_classes)"
   ]
  },
  {
   "cell_type": "markdown",
   "metadata": {},
   "source": [
    "### Include an exploratory visualization of the dataset"
   ]
  },
  {
   "cell_type": "markdown",
   "metadata": {},
   "source": [
    "Visualize the German Traffic Signs Dataset using the pickled file(s). This is open ended, suggestions include: plotting traffic sign images, plotting the count of each sign, etc. \n",
    "\n",
    "The [Matplotlib](http://matplotlib.org/) [examples](http://matplotlib.org/examples/index.html) and [gallery](http://matplotlib.org/gallery.html) pages are a great resource for doing visualizations in Python.\n",
    "\n",
    "**NOTE:** It's recommended you start with something simple first. If you wish to do more, come back to it after you've completed the rest of the sections. It can be interesting to look at the distribution of classes in the training, validation and test set. Is the distribution the same? Are there more examples of some classes than others?"
   ]
  },
  {
   "cell_type": "code",
   "execution_count": 3,
   "metadata": {},
   "outputs": [
    {
     "data": {
      "image/png": "[encoded data removed]",
      "text/plain": [
       "<matplotlib.figure.Figure at 0x7f7a55f55da0>"
      ]
     },
     "metadata": {},
     "output_type": "display_data"
    },
    {
     "name": "stdout",
     "output_type": "stream",
     "text": [
      "Label: 14\n"
     ]
    }
   ],
   "source": [
    "### Data exploration visualization code goes here.\n",
    "### Feel free to use as many code cells as needed.\n",
    "import matplotlib.pyplot as plt\n",
    "# Visualizations will be shown in the notebook.\n",
    "%matplotlib inline\n",
    "\n",
    "import random\n",
    "\n",
    "#Prepare data for image:\n",
    "index = random.randint(0, len(X_train))\n",
    "image = X_train[index].squeeze()\n",
    "\n",
    "plt.title(\"Random Seleted Traning Image:\")\n",
    "plt.imshow(image, cmap=\"gray\")\n",
    "plt.show()\n",
    "print('Label: ' + str(y_train[index]))"
   ]
  },
  {
   "cell_type": "code",
   "execution_count": 4,
   "metadata": {},
   "outputs": [
    {
     "data": {
      "image/png": "[encoded data removed]",
      "text/plain": [
       "<matplotlib.figure.Figure at 0x7f7a28749c50>"
      ]
     },
     "metadata": {},
     "output_type": "display_data"
    }
   ],
   "source": [
    "from collections import Counter\n",
    "#Prepare data for image:\n",
    "index = random.randint(0, len(X_train))\n",
    "image = X_train[index]\n",
    "\n",
    "#Prepare data for subplot of distributions:\n",
    "classID_list = sorted(set(y_train))\n",
    "distribution_x = [n*5 + 3 for n in range(n_classes)]\n",
    "#Training Distribution\n",
    "train_count = Counter(y_train)\n",
    "train_distribution = [train_count[classID] for classID in classID_list]\n",
    "\n",
    "#Validation Distribution:\n",
    "valid_count = Counter(valid['labels'])\n",
    "valid_distribution = [valid_count[classID] for classID in classID_list]\n",
    "\n",
    "#Testing Distribution:\n",
    "test_count = Counter(test['labels'])\n",
    "test_distribution = [test_count[classID] for classID in classID_list]\n",
    "\n",
    "fig, ax = plt.subplots(3, 1, figsize=(10, 20))\n",
    "\n",
    "ax[0].set_title(\"Training Data Distribution:\")\n",
    "ax[0].bar(distribution_x, train_distribution, width=3, align='center', tick_label=classID_list)\n",
    "\n",
    "ax[1].set_title(\"Validation Data Distribution:\")\n",
    "ax[1].bar(distribution_x, valid_distribution, width=3, align='center', tick_label=classID_list)\n",
    "\n",
    "ax[2].set_title(\"Testing Data Distribution:\")\n",
    "ax[2].bar(distribution_x, test_distribution, width=3, align='center', tick_label=classID_list)\n",
    "\n",
    "plt.tight_layout()\n",
    "plt.show()"
   ]
  },
  {
   "cell_type": "markdown",
   "metadata": {},
   "source": [
    "----\n",
    "\n",
    "## Step 2: Design and Test a Model Architecture\n",
    "\n",
    "Design and implement a deep learning model that learns to recognize traffic signs. Train and test your model on the [German Traffic Sign Dataset](http://benchmark.ini.rub.de/?section=gtsrb&subsection=dataset).\n",
    "\n",
    "The LeNet-5 implementation shown in the [classroom](https://classroom.udacity.com/nanodegrees/nd013/parts/fbf77062-5703-404e-b60c-95b78b2f3f9e/modules/6df7ae49-c61c-4bb2-a23e-6527e69209ec/lessons/601ae704-1035-4287-8b11-e2c2716217ad/concepts/d4aca031-508f-4e0b-b493-e7b706120f81) at the end of the CNN lesson is a solid starting point. You'll have to change the number of classes and possibly the preprocessing, but aside from that it's plug and play! \n",
    "\n",
    "With the LeNet-5 solution from the lecture, you should expect a validation set accuracy of about 0.89. To meet specifications, the validation set accuracy will need to be at least 0.93. It is possible to get an even higher accuracy, but 0.93 is the minimum for a successful project submission. \n",
    "\n",
    "There are various aspects to consider when thinking about this problem:\n",
    "\n",
    "- Neural network architecture (is the network over or underfitting?)\n",
    "- Play around preprocessing techniques (normalization, rgb to grayscale, etc)\n",
    "- Number of examples per label (some have more than others).\n",
    "- Generate fake data.\n",
    "\n",
    "Here is an example of a [published baseline model on this problem](http://yann.lecun.com/exdb/publis/pdf/sermanet-ijcnn-11.pdf). It's not required to be familiar with the approach used in the paper but, it's good practice to try to read papers like these."
   ]
  },
  {
   "cell_type": "markdown",
   "metadata": {},
   "source": [
    "### Pre-process the Data Set (normalization, grayscale, etc.)"
   ]
  },
  {
   "cell_type": "markdown",
   "metadata": {},
   "source": [
    "Minimally, the image data should be normalized so that the data has mean zero and equal variance. For image data, `(pixel - 128)/ 128` is a quick way to approximately normalize the data and can be used in this project. \n",
    "\n",
    "Other pre-processing steps are optional. You can try different techniques to see if it improves performance. \n",
    "\n",
    "Use the code cell (or multiple code cells, if necessary) to implement the first step of your project."
   ]
  },
  {
   "cell_type": "markdown",
   "metadata": {},
   "source": [
    "#### Shuffle the training data"
   ]
  },
  {
   "cell_type": "code",
   "execution_count": 14,
   "metadata": {
    "collapsed": true
   },
   "outputs": [],
   "source": [
    "### Preprocess the data here. It is required to normalize the data. Other preprocessing steps could include \n",
    "### converting to grayscale, etc.\n",
    "### Feel free to use as many code cells as needed.\n",
    "\n",
    "from sklearn.utils import shuffle\n",
    "\n",
    "X_train, y_train = shuffle(X_train, y_train)"
   ]
  },
  {
   "cell_type": "markdown",
   "metadata": {},
   "source": [
    "#### Normalize data"
   ]
  },
  {
   "cell_type": "code",
   "execution_count": 5,
   "metadata": {},
   "outputs": [
    {
     "name": "stdout",
     "output_type": "stream",
     "text": [
      "(34799, 32, 32, 1)\n",
      "(4410, 32, 32, 1)\n",
      "(12630, 32, 32, 1)\n"
     ]
    }
   ],
   "source": [
    "import cv2\n",
    "import numpy as np\n",
    "from skimage import exposure\n",
    "\n",
    "def normalize_data(data):\n",
    "    new_data = []\n",
    "\n",
    "    for i in range(len(data)):\n",
    "        #grayscale the image\n",
    "        new_data.append(cv2.cvtColor(data[i], cv2.COLOR_RGB2GRAY))\n",
    "        \n",
    "        #new_data[i] = exposure.equalize_adapthist(new_data[i])\n",
    "        \n",
    "        #normalize the image\n",
    "        new_data[i] = (new_data[i] - 128.0) / 128.0\n",
    "        \n",
    "    new_data = np.array(new_data)\n",
    "    new_data = new_data.reshape(new_data.shape + (1,))\n",
    "    print(new_data.shape)\n",
    "    return new_data\n",
    "\n",
    "#get preprocessed images\n",
    "X_train = normalize_data(X_train)\n",
    "X_valid = normalize_data(X_valid)\n",
    "X_test = normalize_data(X_test)"
   ]
  },
  {
   "cell_type": "markdown",
   "metadata": {},
   "source": [
    "#### Augment Data"
   ]
  },
  {
   "cell_type": "code",
   "execution_count": 6,
   "metadata": {
    "collapsed": true
   },
   "outputs": [],
   "source": [
    "from skimage.transform import rotate\n",
    "from skimage.transform import warp\n",
    "from skimage.transform import ProjectiveTransform\n",
    "\n",
    "def rotate_wrap(x, intensity):\n",
    "    delta = 30. * intensity # scale using augmentation intensity\n",
    "    x = rotate(x, random.uniform(-delta, delta), mode = 'edge')\n",
    "    return x\n",
    "\n",
    "def apply_projection_transform(x, intensity):\n",
    "    image_size = x.shape[0]\n",
    "    d = image_size * 0.3 * intensity\n",
    "    tl_top = random.uniform(-d, d)     # Top left corner, top margin\n",
    "    tl_left = random.uniform(-d, d)    # Top left corner, left margin\n",
    "    bl_bottom = random.uniform(-d, d)  # Bottom left corner, bottom margin\n",
    "    bl_left = random.uniform(-d, d)    # Bottom left corner, left margin\n",
    "    tr_top = random.uniform(-d, d)     # Top right corner, top margin\n",
    "    tr_right = random.uniform(-d, d)   # Top right corner, right margin\n",
    "    br_bottom = random.uniform(-d, d)  # Bottom right corner, bottom margin\n",
    "    br_right = random.uniform(-d, d)   # Bottom right corner, right margin\n",
    "\n",
    "    transform = ProjectiveTransform()\n",
    "    transform.estimate(np.array((\n",
    "            (tl_left, tl_top),\n",
    "            (bl_left, image_size - bl_bottom),\n",
    "            (image_size - br_right, image_size - br_bottom),\n",
    "            (image_size - tr_right, tr_top)\n",
    "        )), np.array((\n",
    "            (0, 0),\n",
    "            (0, image_size),\n",
    "            (image_size, image_size),\n",
    "            (image_size, 0)\n",
    "        )))\n",
    "    x = warp(x, transform, output_shape=(image_size, image_size), order = 1, mode = 'edge')\n",
    "\n",
    "    return x\n",
    "\n"
   ]
  },
  {
   "cell_type": "code",
   "execution_count": 7,
   "metadata": {},
   "outputs": [
    {
     "name": "stdout",
     "output_type": "stream",
     "text": [
      "{0: 180, 1: 1980, 2: 2010, 3: 1260, 4: 1770, 5: 1650, 6: 360, 7: 1290, 8: 1260, 9: 1320, 10: 1800, 11: 1170, 12: 1890, 13: 1920, 14: 690, 15: 540, 16: 360, 17: 990, 18: 1080, 19: 180, 20: 300, 21: 270, 22: 330, 23: 450, 24: 240, 25: 1350, 26: 540, 27: 210, 28: 480, 29: 240, 30: 390, 31: 690, 32: 210, 33: 599, 34: 360, 35: 1080, 36: 330, 37: 180, 38: 1860, 39: 270, 40: 300, 41: 210, 42: 210}\n",
      "{0: 1020, 1: 0, 2: 0, 3: 0, 4: 0, 5: 0, 6: 840, 7: 0, 8: 0, 9: 0, 10: 0, 11: 30, 12: 0, 13: 0, 14: 510, 15: 660, 16: 840, 17: 210, 18: 120, 19: 1020, 20: 900, 21: 930, 22: 870, 23: 750, 24: 960, 25: 0, 26: 660, 27: 990, 28: 720, 29: 960, 30: 810, 31: 510, 32: 990, 33: 601, 34: 840, 35: 120, 36: 870, 37: 1020, 38: 0, 39: 930, 40: 900, 41: 990, 42: 990}\n"
     ]
    }
   ],
   "source": [
    "\n",
    "classifed_X = {i:[] for i in range(43)}\n",
    "for i in range(X_train.shape[0]):\n",
    "    classifed_X[y_train[i]].append(X_train[i])\n",
    "print({k:len(v) for (k,v) in classifed_X.items()})\n",
    "extended_X = {i:[] for i in range(43)}\n",
    "for classID in classifed_X.keys():\n",
    "    for i in range(max(0, 1200-len(classifed_X[classID]))):\n",
    "        aug_image = np.copy(random.choice(classifed_X[0]))  #randomly select one image from the group for augment\n",
    "        aug_image = rotate_wrap(aug_image, 0.75)\n",
    "        aug_image = apply_projection_transform(aug_image, 0.75)\n",
    "        extended_X[classID].append(aug_image)\n",
    "print({k:len(v) for (k,v) in extended_X.items()})"
   ]
  },
  {
   "cell_type": "code",
   "execution_count": 8,
   "metadata": {},
   "outputs": [
    {
     "name": "stdout",
     "output_type": "stream",
     "text": [
      "(1020, 32, 32, 1)\n",
      "(840, 32, 32, 1)\n",
      "(30, 32, 32, 1)\n",
      "(510, 32, 32, 1)\n",
      "(660, 32, 32, 1)\n",
      "(840, 32, 32, 1)\n",
      "(210, 32, 32, 1)\n",
      "(120, 32, 32, 1)\n",
      "(1020, 32, 32, 1)\n",
      "(900, 32, 32, 1)\n",
      "(930, 32, 32, 1)\n",
      "(870, 32, 32, 1)\n",
      "(750, 32, 32, 1)\n",
      "(960, 32, 32, 1)\n",
      "(660, 32, 32, 1)\n",
      "(990, 32, 32, 1)\n",
      "(720, 32, 32, 1)\n",
      "(960, 32, 32, 1)\n",
      "(810, 32, 32, 1)\n",
      "(510, 32, 32, 1)\n",
      "(990, 32, 32, 1)\n",
      "(601, 32, 32, 1)\n",
      "(840, 32, 32, 1)\n",
      "(120, 32, 32, 1)\n",
      "(870, 32, 32, 1)\n",
      "(1020, 32, 32, 1)\n",
      "(930, 32, 32, 1)\n",
      "(900, 32, 32, 1)\n",
      "(990, 32, 32, 1)\n",
      "(990, 32, 32, 1)\n"
     ]
    }
   ],
   "source": [
    "for classID in extended_X.keys():\n",
    "    if extended_X[classID]:\n",
    "        ext_imgs = np.array(extended_X[classID])\n",
    "        print(ext_imgs.shape)\n",
    "        X_train = np.append(X_train, ext_imgs, axis=0)\n",
    "        labels = np.full((len(ext_imgs)), classID)\n",
    "        y_train = np.append(y_train, labels, axis=0)\n"
   ]
  },
  {
   "cell_type": "markdown",
   "metadata": {},
   "source": [
    "#### Save the pre-processed data"
   ]
  },
  {
   "cell_type": "code",
   "execution_count": 16,
   "metadata": {
    "collapsed": true
   },
   "outputs": [],
   "source": [
    "processed_training_file = 'traffic-signs-data/train_processed.p'\n",
    "processed_validation_file= 'traffic-signs-data/valid_processed.p'\n",
    "processed_testing_file = 'traffic-signs-data/test_processed.p'\n",
    "\n",
    "train_processed = {'features':X_train, 'labels':y_train}\n",
    "valid_processed = {'features':X_valid, 'labels':y_valid}\n",
    "test_processed = {'features':X_test, 'labels':y_test}\n",
    "\n",
    "with open(processed_training_file, mode='wb') as f:\n",
    "    pickle.dump(train_processed, f)\n",
    "with open(processed_validation_file, mode='wb') as f:\n",
    "    pickle.dump(valid_processed, f)\n",
    "with open(processed_testing_file, mode='wb') as f:\n",
    "    pickle.dump(test_processed, f)\n",
    "    \n"
   ]
  },
  {
   "cell_type": "markdown",
   "metadata": {},
   "source": [
    "### Model Architecture"
   ]
  },
  {
   "cell_type": "code",
   "execution_count": 9,
   "metadata": {
    "collapsed": true
   },
   "outputs": [],
   "source": [
    "### Define your architecture here.\n",
    "### Feel free to use as many code cells as needed.\n",
    "import tensorflow as tf\n",
    "from tensorflow.contrib.layers import flatten\n",
    "\n",
    "EPOCHS = 20\n",
    "BATCH_SIZE = 128\n",
    "\n",
    "def LeNet(x):    \n",
    "    # Arguments used for tf.truncated_normal, randomly defines variables for the weights and biases for each layer\n",
    "    mu = 0\n",
    "    sigma = 0.1\n",
    "    \n",
    "    # Layer 1: Convolutional. Input = 32x32x1. Output = 28x28x18.\n",
    "    conv1_W = tf.Variable(tf.truncated_normal(shape=(5, 5, 1, 18), mean = mu, stddev = sigma))\n",
    "    conv1_b = tf.Variable(tf.zeros(18))\n",
    "    conv1   = tf.nn.conv2d(x, conv1_W, strides=[1, 1, 1, 1], padding='VALID') + conv1_b\n",
    "\n",
    "    # Layer 1: Activation.\n",
    "    conv1 = tf.nn.relu(conv1)\n",
    "    conv1 = tf.nn.dropout(conv1, keep_prob)\n",
    "\n",
    "    # Layer 1: Pooling. Input = 28x28x18. Output = 14x14x18.\n",
    "    conv1 = tf.nn.max_pool(conv1, ksize=[1, 2, 2, 1], strides=[1, 2, 2, 1], padding='VALID')\n",
    "\n",
    "    # Layer 2: Convolutional. Input = 14x14x18. Output = 10x10x32.\n",
    "    conv2_W = tf.Variable(tf.truncated_normal(shape=(5, 5, 18, 32), mean = mu, stddev = sigma))\n",
    "    conv2_b = tf.Variable(tf.zeros(32))\n",
    "    conv2   = tf.nn.conv2d(conv1, conv2_W, strides=[1, 1, 1, 1], padding='VALID') + conv2_b\n",
    "    \n",
    "    # Layer 2: Activation.\n",
    "    conv2 = tf.nn.relu(conv2)\n",
    "    conv2 = tf.nn.dropout(conv2, keep_prob)\n",
    "\n",
    "    # Layer 2: Pooling. Input = 10x10x32. Output = 5x5x32.\n",
    "    #conv2 = tf.nn.max_pool(conv2, ksize=[1, 2, 2, 1], strides=[1, 2, 2, 1], padding='VALID')\n",
    "    \n",
    "    # Layer 2n: Convolutional. Input = 10x10x32. Output = 6x6x60.\n",
    "    conv2n_W = tf.Variable(tf.truncated_normal(shape=(5, 5, 32, 60), mean = mu, stddev = sigma))\n",
    "    conv2n_b = tf.Variable(tf.zeros(60))\n",
    "    conv2n   = tf.nn.conv2d(conv2, conv2n_W, strides=[1, 1, 1, 1], padding='VALID') + conv2n_b\n",
    "    \n",
    "    # Layer 2n: Activation.\n",
    "    conv2n = tf.nn.relu(conv2n)\n",
    "    conv2n = tf.nn.dropout(conv2n, keep_prob)\n",
    "\n",
    "    # Layer 2n: Pooling. Input = 10x10x60. Output = 3x3x60.\n",
    "    conv2n = tf.nn.max_pool(conv2n, ksize=[1, 2, 2, 1], strides=[1, 2, 2, 1], padding='VALID')\n",
    "    \n",
    "    # Layer 2: Flatten. Input = 5x5x16. Output = 1500.\n",
    "    fc0   = flatten(conv2n)\n",
    "    \n",
    "    # Layer 3: Fully Connected. Input = 400. Output = 120.\n",
    "    fc1_W = tf.Variable(tf.truncated_normal(shape=(540, 120), mean = mu, stddev = sigma))\n",
    "    fc1_b = tf.Variable(tf.zeros(120))\n",
    "    fc1   = tf.matmul(fc0, fc1_W) + fc1_b\n",
    "    \n",
    "    # Layer 3: Activation.\n",
    "    fc1    = tf.nn.relu(fc1)\n",
    "    fc1 = tf.nn.dropout(fc1, keep_prob)\n",
    "\n",
    "    # Layer 4: Fully Connected. Input = 120. Output = 84.\n",
    "    fc2_W  = tf.Variable(tf.truncated_normal(shape=(120, 84), mean = mu, stddev = sigma))\n",
    "    fc2_b  = tf.Variable(tf.zeros(84))\n",
    "    fc2    = tf.matmul(fc1, fc2_W) + fc2_b\n",
    "    \n",
    "    # Layer 4: Activation.\n",
    "    fc2    = tf.nn.relu(fc2)\n",
    "    #fc2 = tf.nn.dropout(fc2, keep_prob)\n",
    "\n",
    "    # Layer 5: Fully Connected. Input = 84. Output = 43.\n",
    "    fc3_W  = tf.Variable(tf.truncated_normal(shape=(84, 43), mean = mu, stddev = sigma))\n",
    "    fc3_b  = tf.Variable(tf.zeros(43))\n",
    "    logits = tf.matmul(fc2, fc3_W) + fc3_b\n",
    "    \n",
    "    return logits"
   ]
  },
  {
   "cell_type": "markdown",
   "metadata": {},
   "source": [
    "### Train, Validate and Test the Model"
   ]
  },
  {
   "cell_type": "markdown",
   "metadata": {},
   "source": [
    "A validation set can be used to assess how well the model is performing. A low accuracy on the training and validation\n",
    "sets imply underfitting. A high accuracy on the training set but low accuracy on the validation set implies overfitting."
   ]
  },
  {
   "cell_type": "code",
   "execution_count": 10,
   "metadata": {
    "collapsed": true
   },
   "outputs": [],
   "source": [
    "### Train your model here.\n",
    "### Calculate and report the accuracy on the training and validation set.\n",
    "### Once a final model architecture is selected, \n",
    "### the accuracy on the test set should be calculated and reported as well.\n",
    "### Feel free to use as many code cells as needed.\n",
    "\n",
    "def evaluate(X_data, y_data):\n",
    "    num_examples = len(X_data)\n",
    "    total_accuracy = 0\n",
    "    sess = tf.get_default_session()\n",
    "    for offset in range(0, num_examples, BATCH_SIZE):\n",
    "        batch_x, batch_y = X_data[offset:offset+BATCH_SIZE], y_data[offset:offset+BATCH_SIZE]\n",
    "        accuracy = sess.run(accuracy_operation, feed_dict={x: batch_x, y: batch_y, keep_prob: 1})\n",
    "        total_accuracy += (accuracy * len(batch_x))\n",
    "    return total_accuracy / num_examples"
   ]
  },
  {
   "cell_type": "code",
   "execution_count": 11,
   "metadata": {
    "collapsed": true
   },
   "outputs": [],
   "source": [
    "x = tf.placeholder(tf.float32, (None, 32, 32, 1))\n",
    "y = tf.placeholder(tf.int32, (None))\n",
    "one_hot_y = tf.one_hot(y, 43)"
   ]
  },
  {
   "cell_type": "code",
   "execution_count": 12,
   "metadata": {
    "collapsed": true
   },
   "outputs": [],
   "source": [
    "keep_prob = tf.placeholder(tf.float32)"
   ]
  },
  {
   "cell_type": "markdown",
   "metadata": {},
   "source": [
    "#### Training Pipeline"
   ]
  },
  {
   "cell_type": "code",
   "execution_count": 13,
   "metadata": {},
   "outputs": [],
   "source": [
    "rate = 0.001\n",
    "#print(x.shape)\n",
    "logits = LeNet(x)\n",
    "cross_entropy = tf.nn.softmax_cross_entropy_with_logits(labels=one_hot_y, logits=logits)\n",
    "loss_operation = tf.reduce_mean(cross_entropy)\n",
    "optimizer = tf.train.AdamOptimizer(learning_rate = rate)\n",
    "training_operation = optimizer.minimize(loss_operation)"
   ]
  },
  {
   "cell_type": "markdown",
   "metadata": {},
   "source": [
    "#### Train Model"
   ]
  },
  {
   "cell_type": "code",
   "execution_count": 15,
   "metadata": {},
   "outputs": [
    {
     "name": "stdout",
     "output_type": "stream",
     "text": [
      "Training...\n",
      "\n",
      "EPOCH 1 ...\n",
      "Validation Accuracy = 0.784\n",
      "\n",
      "EPOCH 2 ...\n",
      "Validation Accuracy = 0.904\n",
      "\n",
      "EPOCH 3 ...\n",
      "Validation Accuracy = 0.931\n",
      "\n",
      "EPOCH 4 ...\n",
      "Validation Accuracy = 0.934\n",
      "\n",
      "EPOCH 5 ...\n",
      "Validation Accuracy = 0.949\n",
      "\n",
      "EPOCH 6 ...\n",
      "Validation Accuracy = 0.952\n",
      "\n",
      "EPOCH 7 ...\n",
      "Validation Accuracy = 0.961\n",
      "\n",
      "EPOCH 8 ...\n",
      "Validation Accuracy = 0.959\n",
      "\n",
      "EPOCH 9 ...\n",
      "Validation Accuracy = 0.965\n",
      "\n",
      "EPOCH 10 ...\n",
      "Validation Accuracy = 0.959\n",
      "\n",
      "EPOCH 11 ...\n",
      "Validation Accuracy = 0.960\n",
      "\n",
      "EPOCH 12 ...\n",
      "Validation Accuracy = 0.962\n",
      "\n",
      "EPOCH 13 ...\n",
      "Validation Accuracy = 0.968\n",
      "\n",
      "EPOCH 14 ...\n",
      "Validation Accuracy = 0.963\n",
      "\n",
      "EPOCH 15 ...\n",
      "Validation Accuracy = 0.970\n",
      "\n",
      "EPOCH 16 ...\n",
      "Validation Accuracy = 0.962\n",
      "\n",
      "EPOCH 17 ...\n",
      "Validation Accuracy = 0.964\n",
      "\n",
      "EPOCH 18 ...\n",
      "Validation Accuracy = 0.967\n",
      "\n",
      "EPOCH 19 ...\n",
      "Validation Accuracy = 0.970\n",
      "\n",
      "EPOCH 20 ...\n",
      "Validation Accuracy = 0.964\n",
      "\n",
      "Model saved\n"
     ]
    }
   ],
   "source": [
    "correct_prediction = tf.equal(tf.argmax(logits, 1), tf.argmax(one_hot_y, 1))\n",
    "accuracy_operation = tf.reduce_mean(tf.cast(correct_prediction, tf.float32))\n",
    "saver = tf.train.Saver()\n",
    "\n",
    "with tf.Session() as sess:\n",
    "    sess.run(tf.global_variables_initializer())\n",
    "    num_examples = len(X_train)\n",
    "    \n",
    "    print(\"Training...\")\n",
    "    print()\n",
    "    for i in range(EPOCHS):\n",
    "        #X_train, y_train = shuffle(X_train, y_train)\n",
    "        for offset in range(0, num_examples, BATCH_SIZE):\n",
    "            end = offset + BATCH_SIZE\n",
    "            batch_x, batch_y = X_train[offset:end], y_train[offset:end]\n",
    "            sess.run(training_operation, feed_dict={x: batch_x, y: batch_y, keep_prob:0.7})\n",
    "            \n",
    "        validation_accuracy = evaluate(X_valid, y_valid)\n",
    "        print(\"EPOCH {} ...\".format(i+1))\n",
    "        print(\"Validation Accuracy = {:.3f}\".format(validation_accuracy))\n",
    "        print()\n",
    "    saver.save(sess, './model')\n",
    "    print(\"Model saved\")"
   ]
  },
  {
   "cell_type": "markdown",
   "metadata": {},
   "source": [
    "#### Test Model"
   ]
  },
  {
   "cell_type": "code",
   "execution_count": 24,
   "metadata": {},
   "outputs": [
    {
     "name": "stdout",
     "output_type": "stream",
     "text": [
      "Test Accuracy = 0.950\n"
     ]
    }
   ],
   "source": [
    "with tf.Session() as sess:\n",
    "    saver.restore(sess, tf.train.latest_checkpoint('.'))\n",
    "\n",
    "    test_accuracy = evaluate(X_test, y_test)\n",
    "    print(\"Test Accuracy = {:.3f}\".format(test_accuracy))"
   ]
  },
  {
   "cell_type": "markdown",
   "metadata": {},
   "source": [
    "---\n",
    "\n",
    "## Step 3: Test a Model on New Images\n",
    "\n",
    "To give yourself more insight into how your model is working, download at least five pictures of German traffic signs from the web and use your model to predict the traffic sign type.\n",
    "\n",
    "You may find `signnames.csv` useful as it contains mappings from the class id (integer) to the actual sign name."
   ]
  },
  {
   "cell_type": "markdown",
   "metadata": {},
   "source": [
    "### Load and Output the Images"
   ]
  },
  {
   "cell_type": "code",
   "execution_count": 28,
   "metadata": {},
   "outputs": [
    {
     "data": {
      "image/png": "[encoded data removed]",
      "text/plain": [
       "<matplotlib.figure.Figure at 0x7f79c3d298d0>"
      ]
     },
     "metadata": {},
     "output_type": "display_data"
    }
   ],
   "source": [
    "### Load the images and plot them here.\n",
    "### Feel free to use as many code cells as needed.\n",
    "new_imgs = []\n",
    "fig, axs = plt.subplots(1, 5)\n",
    "\n",
    "for i in range(5):\n",
    "    new_imgs.append(plt.imread('new_images/image_{}.PNG'.format(i+6)))\n",
    "    axs[i].set_axis_off()\n",
    "    axs[i].imshow(new_imgs[i], cmap='gray')\n",
    "plt.show()\n"
   ]
  },
  {
   "cell_type": "markdown",
   "metadata": {},
   "source": [
    "### Predict the Sign Type for Each Image"
   ]
  },
  {
   "cell_type": "code",
   "execution_count": 29,
   "metadata": {},
   "outputs": [
    {
     "name": "stdout",
     "output_type": "stream",
     "text": [
      "(5, 32, 32, 1)\n",
      "[[ 0.00438907  0.01401329  0.01805704  0.09927104  0.07428823  0.33025086\n",
      "   0.00607005  0.0191788   0.02805487  0.02045194  0.01040075  0.00408752\n",
      "   0.01654189  0.0016867   0.00529568  0.01740738  0.00776669  0.0015394\n",
      "   0.06543786  0.01614674  0.01884858  0.00321855  0.00370619  0.0074481\n",
      "   0.00473455  0.04556275  0.01121528  0.01098621  0.0040977   0.00538305\n",
      "   0.00407293  0.00486526  0.04020773  0.00657781  0.00718652  0.00422839\n",
      "   0.00461044  0.00343395  0.00936547  0.00668975  0.00631186  0.01822385\n",
      "   0.00868928]\n",
      " [ 0.00469687  0.01465809  0.01944383  0.10911267  0.06489933  0.32641509\n",
      "   0.0064094   0.02101125  0.026851    0.02031416  0.01168979  0.00438725\n",
      "   0.01648165  0.00200046  0.00515706  0.01716022  0.0081765   0.00174586\n",
      "   0.05739116  0.01681645  0.01918012  0.00363503  0.00401236  0.00789685\n",
      "   0.00523144  0.0458202   0.01108724  0.01153383  0.0043633   0.00583583\n",
      "   0.00460827  0.00569328  0.03803511  0.00652633  0.00777438  0.00451009\n",
      "   0.00466735  0.00373598  0.01046433  0.00684011  0.00672518  0.01778225\n",
      "   0.00922306]\n",
      " [ 0.00547856  0.01363724  0.01752946  0.11785197  0.05291868  0.29433364\n",
      "   0.00730488  0.01919626  0.02380549  0.02304534  0.01271574  0.00510389\n",
      "   0.01682015  0.00234879  0.00542136  0.01841103  0.00937339  0.00218648\n",
      "   0.05702199  0.02020269  0.02144967  0.00435446  0.00459863  0.00925821\n",
      "   0.00614921  0.05094366  0.01140236  0.01357845  0.00524696  0.00670868\n",
      "   0.00559242  0.00609685  0.0417967   0.00747813  0.00919523  0.00520731\n",
      "   0.0055488   0.00426323  0.01124136  0.0069598   0.00751455  0.02038491\n",
      "   0.01032348]\n",
      " [ 0.00507313  0.01409609  0.0180342   0.11437466  0.06188055  0.312866\n",
      "   0.00722185  0.02016728  0.02689668  0.02249189  0.01211599  0.00437721\n",
      "   0.01630975  0.00219692  0.00557357  0.01819695  0.00912438  0.00200517\n",
      "   0.0525075   0.01775691  0.02070204  0.00371303  0.00433697  0.00839071\n",
      "   0.00556778  0.04611436  0.01048737  0.01174405  0.00469134  0.00627359\n",
      "   0.0049927   0.00546859  0.04095458  0.00696579  0.00859547  0.00492888\n",
      "   0.00529732  0.00382921  0.01058639  0.00681373  0.00678904  0.0193758\n",
      "   0.01011452]\n",
      " [ 0.00498246  0.01330724  0.01584505  0.10461968  0.05736811  0.29834712\n",
      "   0.00698801  0.01869012  0.02357657  0.02327369  0.01192002  0.00498006\n",
      "   0.01692312  0.00206383  0.00515473  0.01696287  0.00902235  0.00196121\n",
      "   0.06736632  0.01998786  0.02156637  0.00409176  0.00426116  0.00912981\n",
      "   0.00584913  0.05370503  0.01203691  0.01345196  0.00495438  0.00637225\n",
      "   0.00529847  0.00551982  0.0434504   0.00732636  0.00857716  0.00504856\n",
      "   0.00537505  0.00415471  0.0103808   0.0067748   0.00745147  0.02176435\n",
      "   0.01011889]]\n"
     ]
    }
   ],
   "source": [
    "### Run the predictions here and use the model to output the prediction for each image.\n",
    "### Make sure to pre-process the images with the same pre-processing pipeline used earlier.\n",
    "### Feel free to use as many code cells as needed.\n",
    "input_data = np.array(new_imgs)\n",
    "input_data = normalize_data(input_data)\n",
    "\n",
    "#y_pred = []\n",
    "with tf.Session() as sess:\n",
    "    saver.restore(sess, tf.train.latest_checkpoint('.'))\n",
    "    output = sess.run(tf.nn.softmax(logits), feed_dict={x: input_data, keep_prob: 1})\n",
    "    #accuracy = sess.run(accuracy_operation, feed_dict={x: input_data, y: [5,5,5,5,5], keep_prob: 1})\n",
    "print(output)\n",
    "    "
   ]
  },
  {
   "cell_type": "markdown",
   "metadata": {},
   "source": [
    "### Analyze Performance"
   ]
  },
  {
   "cell_type": "code",
   "execution_count": 4,
   "metadata": {
    "collapsed": true
   },
   "outputs": [],
   "source": [
    "### Calculate the accuracy for these 5 new images. \n",
    "### For example, if the model predicted 1 out of 5 signs correctly, it's 20% accurate on these new images."
   ]
  },
  {
   "cell_type": "markdown",
   "metadata": {},
   "source": [
    "### Output Top 5 Softmax Probabilities For Each Image Found on the Web"
   ]
  },
  {
   "cell_type": "markdown",
   "metadata": {},
   "source": [
    "For each of the new images, print out the model's softmax probabilities to show the **certainty** of the model's predictions (limit the output to the top 5 probabilities for each image). [`tf.nn.top_k`](https://www.tensorflow.org/versions/r0.12/api_docs/python/nn.html#top_k) could prove helpful here. \n",
    "\n",
    "The example below demonstrates how tf.nn.top_k can be used to find the top k predictions for each image.\n",
    "\n",
    "`tf.nn.top_k` will return the values and indices (class ids) of the top k predictions. So if k=3, for each sign, it'll return the 3 largest probabilities (out of a possible 43) and the correspoding class ids.\n",
    "\n",
    "Take this numpy array as an example. The values in the array represent predictions. The array contains softmax probabilities for five candidate images with six possible classes. `tf.nn.top_k` is used to choose the three classes with the highest probability:\n",
    "\n",
    "```\n",
    "# (5, 6) array\n",
    "a = np.array([[ 0.24879643,  0.07032244,  0.12641572,  0.34763842,  0.07893497,\n",
    "         0.12789202],\n",
    "       [ 0.28086119,  0.27569815,  0.08594638,  0.0178669 ,  0.18063401,\n",
    "         0.15899337],\n",
    "       [ 0.26076848,  0.23664738,  0.08020603,  0.07001922,  0.1134371 ,\n",
    "         0.23892179],\n",
    "       [ 0.11943333,  0.29198961,  0.02605103,  0.26234032,  0.1351348 ,\n",
    "         0.16505091],\n",
    "       [ 0.09561176,  0.34396535,  0.0643941 ,  0.16240774,  0.24206137,\n",
    "         0.09155967]])\n",
    "```\n",
    "\n",
    "Running it through `sess.run(tf.nn.top_k(tf.constant(a), k=3))` produces:\n",
    "\n",
    "```\n",
    "TopKV2(values=array([[ 0.34763842,  0.24879643,  0.12789202],\n",
    "       [ 0.28086119,  0.27569815,  0.18063401],\n",
    "       [ 0.26076848,  0.23892179,  0.23664738],\n",
    "       [ 0.29198961,  0.26234032,  0.16505091],\n",
    "       [ 0.34396535,  0.24206137,  0.16240774]]), indices=array([[3, 0, 5],\n",
    "       [0, 1, 4],\n",
    "       [0, 5, 1],\n",
    "       [1, 3, 5],\n",
    "       [1, 4, 3]], dtype=int32))\n",
    "```\n",
    "\n",
    "Looking just at the first row we get `[ 0.34763842,  0.24879643,  0.12789202]`, you can confirm these are the 3 largest probabilities in `a`. You'll also notice `[3, 0, 5]` are the corresponding indices."
   ]
  },
  {
   "cell_type": "code",
   "execution_count": 3,
   "metadata": {
    "collapsed": true
   },
   "outputs": [],
   "source": [
    "### Print out the top five softmax probabilities for the predictions on the German traffic sign images found on the web. \n",
    "### Feel free to use as many code cells as needed."
   ]
  },
  {
   "cell_type": "markdown",
   "metadata": {},
   "source": [
    "### Project Writeup\n",
    "\n",
    "Once you have completed the code implementation, document your results in a project writeup using this [template](https://github.com/udacity/CarND-Traffic-Sign-Classifier-Project/blob/master/writeup_template.md) as a guide. The writeup can be in a markdown or pdf file. "
   ]
  },
  {
   "cell_type": "markdown",
   "metadata": {},
   "source": [
    "> **Note**: Once you have completed all of the code implementations and successfully answered each question above, you may finalize your work by exporting the iPython Notebook as an HTML document. You can do this by using the menu above and navigating to  \\n\",\n",
    "    \"**File -> Download as -> HTML (.html)**. Include the finished document along with this notebook as your submission."
   ]
  },
  {
   "cell_type": "markdown",
   "metadata": {},
   "source": [
    "---\n",
    "\n",
    "## Step 4 (Optional): Visualize the Neural Network's State with Test Images\n",
    "\n",
    " This Section is not required to complete but acts as an additional excersise for understaning the output of a neural network's weights. While neural networks can be a great learning device they are often referred to as a black box. We can understand what the weights of a neural network look like better by plotting their feature maps. After successfully training your neural network you can see what it's feature maps look like by plotting the output of the network's weight layers in response to a test stimuli image. From these plotted feature maps, it's possible to see what characteristics of an image the network finds interesting. For a sign, maybe the inner network feature maps react with high activation to the sign's boundary outline or to the contrast in the sign's painted symbol.\n",
    "\n",
    " Provided for you below is the function code that allows you to get the visualization output of any tensorflow weight layer you want. The inputs to the function should be a stimuli image, one used during training or a new one you provided, and then the tensorflow variable name that represents the layer's state during the training process, for instance if you wanted to see what the [LeNet lab's](https://classroom.udacity.com/nanodegrees/nd013/parts/fbf77062-5703-404e-b60c-95b78b2f3f9e/modules/6df7ae49-c61c-4bb2-a23e-6527e69209ec/lessons/601ae704-1035-4287-8b11-e2c2716217ad/concepts/d4aca031-508f-4e0b-b493-e7b706120f81) feature maps looked like for it's second convolutional layer you could enter conv2 as the tf_activation variable.\n",
    "\n",
    "For an example of what feature map outputs look like, check out NVIDIA's results in their paper [End-to-End Deep Learning for Self-Driving Cars](https://devblogs.nvidia.com/parallelforall/deep-learning-self-driving-cars/) in the section Visualization of internal CNN State. NVIDIA was able to show that their network's inner weights had high activations to road boundary lines by comparing feature maps from an image with a clear path to one without. Try experimenting with a similar test to show that your trained network's weights are looking for interesting features, whether it's looking at differences in feature maps from images with or without a sign, or even what feature maps look like in a trained network vs a completely untrained one on the same sign image.\n",
    "\n",
    "<figure>\n",
    " <img src=\"visualize_cnn.png\" width=\"380\" alt=\"Combined Image\" />\n",
    " <figcaption>\n",
    " <p></p> \n",
    " <p style=\"text-align: center;\"> Your output should look something like this (above)</p> \n",
    " </figcaption>\n",
    "</figure>\n",
    " <p></p> \n"
   ]
  },
  {
   "cell_type": "code",
   "execution_count": null,
   "metadata": {
    "collapsed": true
   },
   "outputs": [],
   "source": [
    "### Visualize your network's feature maps here.\n",
    "### Feel free to use as many code cells as needed.\n",
    "\n",
    "# image_input: the test image being fed into the network to produce the feature maps\n",
    "# tf_activation: should be a tf variable name used during your training procedure that represents the calculated state of a specific weight layer\n",
    "# activation_min/max: can be used to view the activation contrast in more detail, by default matplot sets min and max to the actual min and max values of the output\n",
    "# plt_num: used to plot out multiple different weight feature map sets on the same block, just extend the plt number for each new feature map entry\n",
    "\n",
    "def outputFeatureMap(image_input, tf_activation, activation_min=-1, activation_max=-1 ,plt_num=1):\n",
    "    # Here make sure to preprocess your image_input in a way your network expects\n",
    "    # with size, normalization, ect if needed\n",
    "    # image_input =\n",
    "    # Note: x should be the same name as your network's tensorflow data placeholder variable\n",
    "    # If you get an error tf_activation is not defined it may be having trouble accessing the variable from inside a function\n",
    "    activation = tf_activation.eval(session=sess,feed_dict={x : image_input})\n",
    "    featuremaps = activation.shape[3]\n",
    "    plt.figure(plt_num, figsize=(15,15))\n",
    "    for featuremap in range(featuremaps):\n",
    "        plt.subplot(6,8, featuremap+1) # sets the number of feature maps to show on each row and column\n",
    "        plt.title('FeatureMap ' + str(featuremap)) # displays the feature map number\n",
    "        if activation_min != -1 & activation_max != -1:\n",
    "            plt.imshow(activation[0,:,:, featuremap], interpolation=\"nearest\", vmin =activation_min, vmax=activation_max, cmap=\"gray\")\n",
    "        elif activation_max != -1:\n",
    "            plt.imshow(activation[0,:,:, featuremap], interpolation=\"nearest\", vmax=activation_max, cmap=\"gray\")\n",
    "        elif activation_min !=-1:\n",
    "            plt.imshow(activation[0,:,:, featuremap], interpolation=\"nearest\", vmin=activation_min, cmap=\"gray\")\n",
    "        else:\n",
    "            plt.imshow(activation[0,:,:, featuremap], interpolation=\"nearest\", cmap=\"gray\")"
   ]
  }
 ],
 "metadata": {
  "anaconda-cloud": {},
  "kernelspec": {
   "display_name": "Python 3",
   "language": "python",
   "name": "python3"
  },
  "language_info": {
   "codemirror_mode": {
    "name": "ipython",
    "version": 3
   },
   "file_extension": ".py",
   "mimetype": "text/x-python",
   "name": "python",
   "nbconvert_exporter": "python",
   "pygments_lexer": "ipython3",
   "version": "3.5.2"
  },
  "widgets": {
   "state": {},
   "version": "1.1.2"
  }
 },
 "nbformat": 4,
 "nbformat_minor": 1
}
